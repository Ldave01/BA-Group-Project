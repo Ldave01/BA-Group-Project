{
  "nbformat": 4,
  "nbformat_minor": 0,
  "metadata": {
    "colab": {
      "name": "BA project II.ipynb",
      "provenance": [],
      "collapsed_sections": [],
      "include_colab_link": true
    },
    "kernelspec": {
      "name": "python3",
      "display_name": "Python 3"
    },
    "language_info": {
      "name": "python"
    }
  },
  "cells": [
    {
      "cell_type": "markdown",
      "metadata": {
        "id": "view-in-github",
        "colab_type": "text"
      },
      "source": [
        "<a href=\"https://colab.research.google.com/github/Ldave01/BA-Group-Project/blob/main/BA_project_II.ipynb\" target=\"_parent\"><img src=\"https://colab.research.google.com/assets/colab-badge.svg\" alt=\"Open In Colab\"/></a>"
      ]
    },
    {
      "cell_type": "markdown",
      "metadata": {
        "id": "2C8Xi3nYsWBd"
      },
      "source": [
        "## BUSINESS PROBLEM"
      ]
    },
    {
      "cell_type": "markdown",
      "metadata": {
        "id": "A8U2Kvwlsa9E"
      },
      "source": [
        "Context\n",
        "\n",
        "Une banque souhaite fournir un service client de meilleure qualité pour protéger les actifs financiers des clients. La banque a reçu plusieurs plaintes concernant des fraudes par carte de crédit de la part de leurs clients et les médias rapportent régulièrement sur la façon dont les clients de la banque perdent de grosses sommes d'argent et la banque ne fait rien pour l'arrêter. Cela a un impact à la fois sur l'expérience des clients et leur part de marché. La haute direction demande une plongée profonde dans cette question.\n",
        "Vous venez d'être embauché en tant qu'analyste commercial pour la banque, et ils vous ont fourni 6 mois de données disponibles (les étapes 0 à 179 se réfèrent aux dates). Ils souhaitent que vous partagiez certaines informations en utilisant les fonctionnalités du fichier pour déterminer si vous pouvez voir un schéma pour les transactions frauduleuses. Ils s'attendent à ce que vous fournissiez des suggestions sur la façon de \n",
        "résoudre le problème.\n"
      ]
    },
    {
      "cell_type": "markdown",
      "metadata": {
        "id": "_5Zv0m7Ksqr0"
      },
      "source": [
        "Des questions\n",
        "\n",
        "1. Montrez un résumé de la variable que vous étudiez (variable cible). Tracez le graphique approprié pour représenter ces données.(ok)\n",
        "2. Calculer des statistiques récapitulatives à partir des données.(Statistiques descriptive)(ok)\n",
        "3. Calcul des tendances quotidiennes des transactions pour différentes catégories de variables.(Transaction by sex(0k), Transaction by age, transaction  by category transaction,nan ki men ki machann ou jwenn plis fraud)\n",
        "4. Que pensez-vous des transactions frauduleuses ? Y a-t-il un seuil de\n",
        "dépensé? Existe-t-il un « genre » spécifique avec une probabilité plus élevée d'être victime d'un acte frauduleux ? ou « catégorie » de transactions plus susceptibles d'être frauduleuses ?\n",
        "5. Quelles sont vos recommandations à la direction de la banque et décrivez comment votre solution permettra-t-elle de regagner la confiance des clients ?\n"
      ]
    },
    {
      "cell_type": "markdown",
      "metadata": {
        "id": "bOs-_nZMmFJm"
      },
      "source": [
        "# DATA ANALYSIS STEP"
      ]
    },
    {
      "cell_type": "markdown",
      "metadata": {
        "id": "oe6mfkUoo4aF"
      },
      "source": [
        "##  Downloading Librairies"
      ]
    },
    {
      "cell_type": "code",
      "metadata": {
        "id": "uc-LvyVXpXkk"
      },
      "source": [
        "import pandas as pd\n",
        "import numpy as np\n",
        "from matplotlib import pyplot as plt\n",
        "import re as re\n",
        "import seaborn as sns\n",
        "import datetime as dt\n",
        "import io"
      ],
      "execution_count": 119,
      "outputs": []
    },
    {
      "cell_type": "markdown",
      "metadata": {
        "id": "RgDrmvpMoPU1"
      },
      "source": [
        "## Data Retrieval"
      ]
    },
    {
      "cell_type": "markdown",
      "metadata": {
        "id": "Sn3KBX4soaht"
      },
      "source": [
        "## Data cleansing"
      ]
    },
    {
      "cell_type": "code",
      "metadata": {
        "id": "mBfV2e9lGtv9",
        "colab": {
          "base_uri": "https://localhost:8080/",
          "height": 195
        },
        "outputId": "952d71fa-f574-4e84-e3ce-d435188a4fed"
      },
      "source": [
        "url=\"https://raw.githubusercontent.com/Ldave01/BA-Group-Project/main/file1.csv\"\n",
        "data=pd.read_csv(url)\n",
        "data.head()"
      ],
      "execution_count": 142,
      "outputs": [
        {
          "output_type": "execute_result",
          "data": {
            "text/html": [
              "<div>\n",
              "<style scoped>\n",
              "    .dataframe tbody tr th:only-of-type {\n",
              "        vertical-align: middle;\n",
              "    }\n",
              "\n",
              "    .dataframe tbody tr th {\n",
              "        vertical-align: top;\n",
              "    }\n",
              "\n",
              "    .dataframe thead th {\n",
              "        text-align: right;\n",
              "    }\n",
              "</style>\n",
              "<table border=\"1\" class=\"dataframe\">\n",
              "  <thead>\n",
              "    <tr style=\"text-align: right;\">\n",
              "      <th></th>\n",
              "      <th>step</th>\n",
              "      <th>customer</th>\n",
              "      <th>age</th>\n",
              "      <th>gender</th>\n",
              "      <th>zipcodeOri</th>\n",
              "      <th>merchant</th>\n",
              "      <th>zipMerchant</th>\n",
              "      <th>category</th>\n",
              "      <th>amount</th>\n",
              "      <th>fraud</th>\n",
              "    </tr>\n",
              "  </thead>\n",
              "  <tbody>\n",
              "    <tr>\n",
              "      <th>0</th>\n",
              "      <td>0</td>\n",
              "      <td>'C1093826151'</td>\n",
              "      <td>'4'</td>\n",
              "      <td>'M'</td>\n",
              "      <td>'28007'</td>\n",
              "      <td>'M348934600'</td>\n",
              "      <td>'28007'</td>\n",
              "      <td>'es_transportation'</td>\n",
              "      <td>4.55</td>\n",
              "      <td>0</td>\n",
              "    </tr>\n",
              "    <tr>\n",
              "      <th>1</th>\n",
              "      <td>0</td>\n",
              "      <td>'C352968107'</td>\n",
              "      <td>'2'</td>\n",
              "      <td>'M'</td>\n",
              "      <td>'28007'</td>\n",
              "      <td>'M348934600'</td>\n",
              "      <td>'28007'</td>\n",
              "      <td>'es_transportation'</td>\n",
              "      <td>39.68</td>\n",
              "      <td>0</td>\n",
              "    </tr>\n",
              "    <tr>\n",
              "      <th>2</th>\n",
              "      <td>0</td>\n",
              "      <td>'C2054744914'</td>\n",
              "      <td>'4'</td>\n",
              "      <td>'F'</td>\n",
              "      <td>'28007'</td>\n",
              "      <td>'M1823072687'</td>\n",
              "      <td>'28007'</td>\n",
              "      <td>'es_transportation'</td>\n",
              "      <td>26.89</td>\n",
              "      <td>0</td>\n",
              "    </tr>\n",
              "    <tr>\n",
              "      <th>3</th>\n",
              "      <td>0</td>\n",
              "      <td>'C1760612790'</td>\n",
              "      <td>'3'</td>\n",
              "      <td>'M'</td>\n",
              "      <td>'28007'</td>\n",
              "      <td>'M348934600'</td>\n",
              "      <td>'28007'</td>\n",
              "      <td>'es_transportation'</td>\n",
              "      <td>17.25</td>\n",
              "      <td>0</td>\n",
              "    </tr>\n",
              "    <tr>\n",
              "      <th>4</th>\n",
              "      <td>0</td>\n",
              "      <td>'C757503768'</td>\n",
              "      <td>'5'</td>\n",
              "      <td>'M'</td>\n",
              "      <td>'28007'</td>\n",
              "      <td>'M348934600'</td>\n",
              "      <td>'28007'</td>\n",
              "      <td>'es_transportation'</td>\n",
              "      <td>35.72</td>\n",
              "      <td>0</td>\n",
              "    </tr>\n",
              "  </tbody>\n",
              "</table>\n",
              "</div>"
            ],
            "text/plain": [
              "   step       customer  age  ...             category amount fraud\n",
              "0     0  'C1093826151'  '4'  ...  'es_transportation'   4.55     0\n",
              "1     0   'C352968107'  '2'  ...  'es_transportation'  39.68     0\n",
              "2     0  'C2054744914'  '4'  ...  'es_transportation'  26.89     0\n",
              "3     0  'C1760612790'  '3'  ...  'es_transportation'  17.25     0\n",
              "4     0   'C757503768'  '5'  ...  'es_transportation'  35.72     0\n",
              "\n",
              "[5 rows x 10 columns]"
            ]
          },
          "metadata": {
            "tags": []
          },
          "execution_count": 142
        }
      ]
    },
    {
      "cell_type": "code",
      "metadata": {
        "id": "VgO86bLCUuUm"
      },
      "source": [
        "#Function to remove unwanted characters from column value\n",
        "def remove_char(dataset,cols=[],new={}):\n",
        "  dataset[cols] = dataset[cols].replace(new, regex=True)\n",
        "  return dataset.head()"
      ],
      "execution_count": 143,
      "outputs": []
    },
    {
      "cell_type": "code",
      "metadata": {
        "colab": {
          "base_uri": "https://localhost:8080/",
          "height": 195
        },
        "id": "UofC8E6tmdlA",
        "outputId": "d071db86-c263-47a3-c1f5-b6b5121beac0"
      },
      "source": [
        "remove_char(data,cols=['customer','age','gender','merchant','category'],new={\"'\":'', \"es_\":''})"
      ],
      "execution_count": 144,
      "outputs": [
        {
          "output_type": "execute_result",
          "data": {
            "text/html": [
              "<div>\n",
              "<style scoped>\n",
              "    .dataframe tbody tr th:only-of-type {\n",
              "        vertical-align: middle;\n",
              "    }\n",
              "\n",
              "    .dataframe tbody tr th {\n",
              "        vertical-align: top;\n",
              "    }\n",
              "\n",
              "    .dataframe thead th {\n",
              "        text-align: right;\n",
              "    }\n",
              "</style>\n",
              "<table border=\"1\" class=\"dataframe\">\n",
              "  <thead>\n",
              "    <tr style=\"text-align: right;\">\n",
              "      <th></th>\n",
              "      <th>step</th>\n",
              "      <th>customer</th>\n",
              "      <th>age</th>\n",
              "      <th>gender</th>\n",
              "      <th>zipcodeOri</th>\n",
              "      <th>merchant</th>\n",
              "      <th>zipMerchant</th>\n",
              "      <th>category</th>\n",
              "      <th>amount</th>\n",
              "      <th>fraud</th>\n",
              "    </tr>\n",
              "  </thead>\n",
              "  <tbody>\n",
              "    <tr>\n",
              "      <th>0</th>\n",
              "      <td>0</td>\n",
              "      <td>C1093826151</td>\n",
              "      <td>4</td>\n",
              "      <td>M</td>\n",
              "      <td>'28007'</td>\n",
              "      <td>M348934600</td>\n",
              "      <td>'28007'</td>\n",
              "      <td>transportation</td>\n",
              "      <td>4.55</td>\n",
              "      <td>0</td>\n",
              "    </tr>\n",
              "    <tr>\n",
              "      <th>1</th>\n",
              "      <td>0</td>\n",
              "      <td>C352968107</td>\n",
              "      <td>2</td>\n",
              "      <td>M</td>\n",
              "      <td>'28007'</td>\n",
              "      <td>M348934600</td>\n",
              "      <td>'28007'</td>\n",
              "      <td>transportation</td>\n",
              "      <td>39.68</td>\n",
              "      <td>0</td>\n",
              "    </tr>\n",
              "    <tr>\n",
              "      <th>2</th>\n",
              "      <td>0</td>\n",
              "      <td>C2054744914</td>\n",
              "      <td>4</td>\n",
              "      <td>F</td>\n",
              "      <td>'28007'</td>\n",
              "      <td>M1823072687</td>\n",
              "      <td>'28007'</td>\n",
              "      <td>transportation</td>\n",
              "      <td>26.89</td>\n",
              "      <td>0</td>\n",
              "    </tr>\n",
              "    <tr>\n",
              "      <th>3</th>\n",
              "      <td>0</td>\n",
              "      <td>C1760612790</td>\n",
              "      <td>3</td>\n",
              "      <td>M</td>\n",
              "      <td>'28007'</td>\n",
              "      <td>M348934600</td>\n",
              "      <td>'28007'</td>\n",
              "      <td>transportation</td>\n",
              "      <td>17.25</td>\n",
              "      <td>0</td>\n",
              "    </tr>\n",
              "    <tr>\n",
              "      <th>4</th>\n",
              "      <td>0</td>\n",
              "      <td>C757503768</td>\n",
              "      <td>5</td>\n",
              "      <td>M</td>\n",
              "      <td>'28007'</td>\n",
              "      <td>M348934600</td>\n",
              "      <td>'28007'</td>\n",
              "      <td>transportation</td>\n",
              "      <td>35.72</td>\n",
              "      <td>0</td>\n",
              "    </tr>\n",
              "  </tbody>\n",
              "</table>\n",
              "</div>"
            ],
            "text/plain": [
              "   step     customer age gender  ... zipMerchant        category amount fraud\n",
              "0     0  C1093826151   4      M  ...     '28007'  transportation   4.55     0\n",
              "1     0   C352968107   2      M  ...     '28007'  transportation  39.68     0\n",
              "2     0  C2054744914   4      F  ...     '28007'  transportation  26.89     0\n",
              "3     0  C1760612790   3      M  ...     '28007'  transportation  17.25     0\n",
              "4     0   C757503768   5      M  ...     '28007'  transportation  35.72     0\n",
              "\n",
              "[5 rows x 10 columns]"
            ]
          },
          "metadata": {
            "tags": []
          },
          "execution_count": 144
        }
      ]
    },
    {
      "cell_type": "code",
      "metadata": {
        "id": "DyGqykLCYWp0"
      },
      "source": [
        "# selected specific columns\n",
        "cols = ['step','customer','age','gender','merchant','category','amount','fraud']\n",
        "data = data.loc[:,cols]"
      ],
      "execution_count": 145,
      "outputs": []
    },
    {
      "cell_type": "code",
      "metadata": {
        "colab": {
          "base_uri": "https://localhost:8080/",
          "height": 106
        },
        "id": "FnLwve1coOHu",
        "outputId": "f281f8dc-1ad7-4fb6-bd70-3074f1451a85"
      },
      "source": [
        "data.head(2)"
      ],
      "execution_count": 146,
      "outputs": [
        {
          "output_type": "execute_result",
          "data": {
            "text/html": [
              "<div>\n",
              "<style scoped>\n",
              "    .dataframe tbody tr th:only-of-type {\n",
              "        vertical-align: middle;\n",
              "    }\n",
              "\n",
              "    .dataframe tbody tr th {\n",
              "        vertical-align: top;\n",
              "    }\n",
              "\n",
              "    .dataframe thead th {\n",
              "        text-align: right;\n",
              "    }\n",
              "</style>\n",
              "<table border=\"1\" class=\"dataframe\">\n",
              "  <thead>\n",
              "    <tr style=\"text-align: right;\">\n",
              "      <th></th>\n",
              "      <th>step</th>\n",
              "      <th>customer</th>\n",
              "      <th>age</th>\n",
              "      <th>gender</th>\n",
              "      <th>merchant</th>\n",
              "      <th>category</th>\n",
              "      <th>amount</th>\n",
              "      <th>fraud</th>\n",
              "    </tr>\n",
              "  </thead>\n",
              "  <tbody>\n",
              "    <tr>\n",
              "      <th>0</th>\n",
              "      <td>0</td>\n",
              "      <td>C1093826151</td>\n",
              "      <td>4</td>\n",
              "      <td>M</td>\n",
              "      <td>M348934600</td>\n",
              "      <td>transportation</td>\n",
              "      <td>4.55</td>\n",
              "      <td>0</td>\n",
              "    </tr>\n",
              "    <tr>\n",
              "      <th>1</th>\n",
              "      <td>0</td>\n",
              "      <td>C352968107</td>\n",
              "      <td>2</td>\n",
              "      <td>M</td>\n",
              "      <td>M348934600</td>\n",
              "      <td>transportation</td>\n",
              "      <td>39.68</td>\n",
              "      <td>0</td>\n",
              "    </tr>\n",
              "  </tbody>\n",
              "</table>\n",
              "</div>"
            ],
            "text/plain": [
              "   step     customer age gender    merchant        category  amount  fraud\n",
              "0     0  C1093826151   4      M  M348934600  transportation    4.55      0\n",
              "1     0   C352968107   2      M  M348934600  transportation   39.68      0"
            ]
          },
          "metadata": {
            "tags": []
          },
          "execution_count": 146
        }
      ]
    },
    {
      "cell_type": "code",
      "metadata": {
        "colab": {
          "base_uri": "https://localhost:8080/"
        },
        "id": "KqG95q3PX2S6",
        "outputId": "53d20406-4762-45a7-8449-4cba43728ed1"
      },
      "source": [
        "data.duplicated().sum()"
      ],
      "execution_count": 147,
      "outputs": [
        {
          "output_type": "execute_result",
          "data": {
            "text/plain": [
              "0"
            ]
          },
          "metadata": {
            "tags": []
          },
          "execution_count": 147
        }
      ]
    },
    {
      "cell_type": "code",
      "metadata": {
        "id": "yLh1x_0eW5EJ"
      },
      "source": [
        "data['amount']=data['amount']*1000"
      ],
      "execution_count": 148,
      "outputs": []
    },
    {
      "cell_type": "code",
      "metadata": {
        "colab": {
          "base_uri": "https://localhost:8080/"
        },
        "id": "htFm6I9RZZSg",
        "outputId": "72825167-a9fa-4e4b-d4ca-a0a3e930af2c"
      },
      "source": [
        "data['amount']"
      ],
      "execution_count": 149,
      "outputs": [
        {
          "output_type": "execute_result",
          "data": {
            "text/plain": [
              "0          4550.0\n",
              "1         39680.0\n",
              "2         26890.0\n",
              "3         17250.0\n",
              "4         35720.0\n",
              "           ...   \n",
              "594638    20530.0\n",
              "594639    50730.0\n",
              "594640    22440.0\n",
              "594641    14460.0\n",
              "594642    26930.0\n",
              "Name: amount, Length: 594643, dtype: float64"
            ]
          },
          "metadata": {
            "tags": []
          },
          "execution_count": 149
        }
      ]
    },
    {
      "cell_type": "code",
      "metadata": {
        "colab": {
          "base_uri": "https://localhost:8080/"
        },
        "id": "yzSg9wzjo4gU",
        "outputId": "b6e4c2e5-3e68-4644-f486-afb4aab7f65d"
      },
      "source": [
        "#check unique values from gender column\n",
        "data.gender.unique()"
      ],
      "execution_count": 150,
      "outputs": [
        {
          "output_type": "execute_result",
          "data": {
            "text/plain": [
              "array(['M', 'F', 'E', 'U'], dtype=object)"
            ]
          },
          "metadata": {
            "tags": []
          },
          "execution_count": 150
        }
      ]
    },
    {
      "cell_type": "code",
      "metadata": {
        "id": "652NlZ4vtUc0"
      },
      "source": [
        "# Replace gender initial \n",
        "data['gender']=data['gender'].replace(['M','F','E','U'],['Male','Female','Gender_E','Gender_Unkwon'])"
      ],
      "execution_count": 151,
      "outputs": []
    },
    {
      "cell_type": "code",
      "metadata": {
        "colab": {
          "base_uri": "https://localhost:8080/"
        },
        "id": "Gpx1kLnuwdkX",
        "outputId": "39bf03a4-a2d4-4779-a1c3-fafaf142c9cf"
      },
      "source": [
        "data.gender.unique()"
      ],
      "execution_count": 152,
      "outputs": [
        {
          "output_type": "execute_result",
          "data": {
            "text/plain": [
              "array(['Male', 'Female', 'Gender_E', 'Gender_Unkwon'], dtype=object)"
            ]
          },
          "metadata": {
            "tags": []
          },
          "execution_count": 152
        }
      ]
    },
    {
      "cell_type": "code",
      "metadata": {
        "colab": {
          "base_uri": "https://localhost:8080/",
          "height": 343
        },
        "id": "ZB_UXHl2wo32",
        "outputId": "358a0ce9-cb62-4aa1-fd82-5ce463220fdc"
      },
      "source": [
        "data.head(10)"
      ],
      "execution_count": 153,
      "outputs": [
        {
          "output_type": "execute_result",
          "data": {
            "text/html": [
              "<div>\n",
              "<style scoped>\n",
              "    .dataframe tbody tr th:only-of-type {\n",
              "        vertical-align: middle;\n",
              "    }\n",
              "\n",
              "    .dataframe tbody tr th {\n",
              "        vertical-align: top;\n",
              "    }\n",
              "\n",
              "    .dataframe thead th {\n",
              "        text-align: right;\n",
              "    }\n",
              "</style>\n",
              "<table border=\"1\" class=\"dataframe\">\n",
              "  <thead>\n",
              "    <tr style=\"text-align: right;\">\n",
              "      <th></th>\n",
              "      <th>step</th>\n",
              "      <th>customer</th>\n",
              "      <th>age</th>\n",
              "      <th>gender</th>\n",
              "      <th>merchant</th>\n",
              "      <th>category</th>\n",
              "      <th>amount</th>\n",
              "      <th>fraud</th>\n",
              "    </tr>\n",
              "  </thead>\n",
              "  <tbody>\n",
              "    <tr>\n",
              "      <th>0</th>\n",
              "      <td>0</td>\n",
              "      <td>C1093826151</td>\n",
              "      <td>4</td>\n",
              "      <td>Male</td>\n",
              "      <td>M348934600</td>\n",
              "      <td>transportation</td>\n",
              "      <td>4550.0</td>\n",
              "      <td>0</td>\n",
              "    </tr>\n",
              "    <tr>\n",
              "      <th>1</th>\n",
              "      <td>0</td>\n",
              "      <td>C352968107</td>\n",
              "      <td>2</td>\n",
              "      <td>Male</td>\n",
              "      <td>M348934600</td>\n",
              "      <td>transportation</td>\n",
              "      <td>39680.0</td>\n",
              "      <td>0</td>\n",
              "    </tr>\n",
              "    <tr>\n",
              "      <th>2</th>\n",
              "      <td>0</td>\n",
              "      <td>C2054744914</td>\n",
              "      <td>4</td>\n",
              "      <td>Female</td>\n",
              "      <td>M1823072687</td>\n",
              "      <td>transportation</td>\n",
              "      <td>26890.0</td>\n",
              "      <td>0</td>\n",
              "    </tr>\n",
              "    <tr>\n",
              "      <th>3</th>\n",
              "      <td>0</td>\n",
              "      <td>C1760612790</td>\n",
              "      <td>3</td>\n",
              "      <td>Male</td>\n",
              "      <td>M348934600</td>\n",
              "      <td>transportation</td>\n",
              "      <td>17250.0</td>\n",
              "      <td>0</td>\n",
              "    </tr>\n",
              "    <tr>\n",
              "      <th>4</th>\n",
              "      <td>0</td>\n",
              "      <td>C757503768</td>\n",
              "      <td>5</td>\n",
              "      <td>Male</td>\n",
              "      <td>M348934600</td>\n",
              "      <td>transportation</td>\n",
              "      <td>35720.0</td>\n",
              "      <td>0</td>\n",
              "    </tr>\n",
              "    <tr>\n",
              "      <th>5</th>\n",
              "      <td>0</td>\n",
              "      <td>C1315400589</td>\n",
              "      <td>3</td>\n",
              "      <td>Female</td>\n",
              "      <td>M348934600</td>\n",
              "      <td>transportation</td>\n",
              "      <td>25810.0</td>\n",
              "      <td>0</td>\n",
              "    </tr>\n",
              "    <tr>\n",
              "      <th>6</th>\n",
              "      <td>0</td>\n",
              "      <td>C765155274</td>\n",
              "      <td>1</td>\n",
              "      <td>Female</td>\n",
              "      <td>M348934600</td>\n",
              "      <td>transportation</td>\n",
              "      <td>9100.0</td>\n",
              "      <td>0</td>\n",
              "    </tr>\n",
              "    <tr>\n",
              "      <th>7</th>\n",
              "      <td>0</td>\n",
              "      <td>C202531238</td>\n",
              "      <td>4</td>\n",
              "      <td>Female</td>\n",
              "      <td>M348934600</td>\n",
              "      <td>transportation</td>\n",
              "      <td>21170.0</td>\n",
              "      <td>0</td>\n",
              "    </tr>\n",
              "    <tr>\n",
              "      <th>8</th>\n",
              "      <td>0</td>\n",
              "      <td>C105845174</td>\n",
              "      <td>3</td>\n",
              "      <td>Male</td>\n",
              "      <td>M348934600</td>\n",
              "      <td>transportation</td>\n",
              "      <td>32400.0</td>\n",
              "      <td>0</td>\n",
              "    </tr>\n",
              "    <tr>\n",
              "      <th>9</th>\n",
              "      <td>0</td>\n",
              "      <td>C39858251</td>\n",
              "      <td>5</td>\n",
              "      <td>Female</td>\n",
              "      <td>M348934600</td>\n",
              "      <td>transportation</td>\n",
              "      <td>35400.0</td>\n",
              "      <td>0</td>\n",
              "    </tr>\n",
              "  </tbody>\n",
              "</table>\n",
              "</div>"
            ],
            "text/plain": [
              "   step     customer age  gender     merchant        category   amount  fraud\n",
              "0     0  C1093826151   4    Male   M348934600  transportation   4550.0      0\n",
              "1     0   C352968107   2    Male   M348934600  transportation  39680.0      0\n",
              "2     0  C2054744914   4  Female  M1823072687  transportation  26890.0      0\n",
              "3     0  C1760612790   3    Male   M348934600  transportation  17250.0      0\n",
              "4     0   C757503768   5    Male   M348934600  transportation  35720.0      0\n",
              "5     0  C1315400589   3  Female   M348934600  transportation  25810.0      0\n",
              "6     0   C765155274   1  Female   M348934600  transportation   9100.0      0\n",
              "7     0   C202531238   4  Female   M348934600  transportation  21170.0      0\n",
              "8     0   C105845174   3    Male   M348934600  transportation  32400.0      0\n",
              "9     0    C39858251   5  Female   M348934600  transportation  35400.0      0"
            ]
          },
          "metadata": {
            "tags": []
          },
          "execution_count": 153
        }
      ]
    },
    {
      "cell_type": "code",
      "metadata": {
        "colab": {
          "base_uri": "https://localhost:8080/"
        },
        "id": "ckk2bbHSWwtU",
        "outputId": "757b40ea-9571-4ca4-f6f7-5f7b019c70e4"
      },
      "source": [
        "data.info()"
      ],
      "execution_count": 154,
      "outputs": [
        {
          "output_type": "stream",
          "text": [
            "<class 'pandas.core.frame.DataFrame'>\n",
            "RangeIndex: 594643 entries, 0 to 594642\n",
            "Data columns (total 8 columns):\n",
            " #   Column    Non-Null Count   Dtype  \n",
            "---  ------    --------------   -----  \n",
            " 0   step      594643 non-null  int64  \n",
            " 1   customer  594643 non-null  object \n",
            " 2   age       594643 non-null  object \n",
            " 3   gender    594643 non-null  object \n",
            " 4   merchant  594643 non-null  object \n",
            " 5   category  594643 non-null  object \n",
            " 6   amount    594643 non-null  float64\n",
            " 7   fraud     594643 non-null  int64  \n",
            "dtypes: float64(1), int64(2), object(5)\n",
            "memory usage: 36.3+ MB\n"
          ],
          "name": "stdout"
        }
      ]
    },
    {
      "cell_type": "code",
      "metadata": {
        "id": "zVit9bGHRyDO"
      },
      "source": [
        "#Function to check for null values in Dataset\n",
        "def check_null(dataset):\n",
        "    null=data.isna().sum()\n",
        "    return null"
      ],
      "execution_count": 155,
      "outputs": []
    },
    {
      "cell_type": "code",
      "metadata": {
        "colab": {
          "base_uri": "https://localhost:8080/"
        },
        "id": "dPDmqoIER20j",
        "outputId": "5fb6a22f-f399-4e4b-a350-ce39632cc4bf"
      },
      "source": [
        "check_null(data)"
      ],
      "execution_count": 156,
      "outputs": [
        {
          "output_type": "execute_result",
          "data": {
            "text/plain": [
              "step        0\n",
              "customer    0\n",
              "age         0\n",
              "gender      0\n",
              "merchant    0\n",
              "category    0\n",
              "amount      0\n",
              "fraud       0\n",
              "dtype: int64"
            ]
          },
          "metadata": {
            "tags": []
          },
          "execution_count": 156
        }
      ]
    },
    {
      "cell_type": "code",
      "metadata": {
        "colab": {
          "base_uri": "https://localhost:8080/"
        },
        "id": "HN-IRx1Ir4zB",
        "outputId": "9b084aa6-52a5-4f27-fc85-23e40695aed9"
      },
      "source": [
        "data.gender.value_counts(normalize=True)"
      ],
      "execution_count": 157,
      "outputs": [
        {
          "output_type": "execute_result",
          "data": {
            "text/plain": [
              "Female           0.545815\n",
              "Male             0.451338\n",
              "Gender_E         0.001981\n",
              "Gender_Unkwon    0.000866\n",
              "Name: gender, dtype: float64"
            ]
          },
          "metadata": {
            "tags": []
          },
          "execution_count": 157
        }
      ]
    },
    {
      "cell_type": "code",
      "metadata": {
        "colab": {
          "base_uri": "https://localhost:8080/"
        },
        "id": "3Wx161y3sECa",
        "outputId": "f38a5361-05c5-4d57-c3dd-004e89b734e2"
      },
      "source": [
        "data.fraud.value_counts().describe()"
      ],
      "execution_count": 158,
      "outputs": [
        {
          "output_type": "execute_result",
          "data": {
            "text/plain": [
              "count         2.000000\n",
              "mean     297321.500000\n",
              "std      410293.760036\n",
              "min        7200.000000\n",
              "25%      152260.750000\n",
              "50%      297321.500000\n",
              "75%      442382.250000\n",
              "max      587443.000000\n",
              "Name: fraud, dtype: float64"
            ]
          },
          "metadata": {
            "tags": []
          },
          "execution_count": 158
        }
      ]
    },
    {
      "cell_type": "code",
      "metadata": {
        "colab": {
          "base_uri": "https://localhost:8080/"
        },
        "id": "JAUdEhMUzb_v",
        "outputId": "2c2dc4ac-781e-46b3-b388-45cdc4e4220e"
      },
      "source": [
        "data.category.value_counts(normalize=True)"
      ],
      "execution_count": 159,
      "outputs": [
        {
          "output_type": "execute_result",
          "data": {
            "text/plain": [
              "transportation        0.849449\n",
              "food                  0.044151\n",
              "health                0.027131\n",
              "wellnessandbeauty     0.025370\n",
              "fashion               0.010854\n",
              "barsandrestaurants    0.010717\n",
              "hyper                 0.010255\n",
              "sportsandtoys         0.006730\n",
              "tech                  0.003986\n",
              "home                  0.003340\n",
              "hotelservices         0.002933\n",
              "otherservices         0.001534\n",
              "contents              0.001488\n",
              "travel                0.001224\n",
              "leisure               0.000839\n",
              "Name: category, dtype: float64"
            ]
          },
          "metadata": {
            "tags": []
          },
          "execution_count": 159
        }
      ]
    },
    {
      "cell_type": "code",
      "metadata": {
        "colab": {
          "base_uri": "https://localhost:8080/"
        },
        "id": "6dvBKyAtztwB",
        "outputId": "0bc4ed65-1531-479d-e90b-9927c2f37d4b"
      },
      "source": [
        "data.age.value_counts(normalize=True)"
      ],
      "execution_count": 160,
      "outputs": [
        {
          "output_type": "execute_result",
          "data": {
            "text/plain": [
              "2    0.314996\n",
              "3    0.247427\n",
              "4    0.183345\n",
              "5    0.105344\n",
              "1    0.097758\n",
              "6    0.045025\n",
              "0    0.004123\n",
              "U    0.001981\n",
              "Name: age, dtype: float64"
            ]
          },
          "metadata": {
            "tags": []
          },
          "execution_count": 160
        }
      ]
    },
    {
      "cell_type": "code",
      "metadata": {
        "id": "zFa7y4GPCFLt"
      },
      "source": [
        "#Function to check null values in Dataset\n",
        "def check_null(data):\n",
        "    null=data.isna().sum()/data.shape[0]\n",
        "    return null"
      ],
      "execution_count": 161,
      "outputs": []
    },
    {
      "cell_type": "code",
      "metadata": {
        "colab": {
          "base_uri": "https://localhost:8080/"
        },
        "id": "4fiRukasZ1W3",
        "outputId": "036ef848-4dde-462a-81b4-cd07f6c61e7c"
      },
      "source": [
        "check_null(data)"
      ],
      "execution_count": 162,
      "outputs": [
        {
          "output_type": "execute_result",
          "data": {
            "text/plain": [
              "step        0.0\n",
              "customer    0.0\n",
              "age         0.0\n",
              "gender      0.0\n",
              "merchant    0.0\n",
              "category    0.0\n",
              "amount      0.0\n",
              "fraud       0.0\n",
              "dtype: float64"
            ]
          },
          "metadata": {
            "tags": []
          },
          "execution_count": 162
        }
      ]
    },
    {
      "cell_type": "code",
      "metadata": {
        "id": "3qxIsRAg4JxS"
      },
      "source": [
        "def dataset_cardinalite(dataset,is_number=True):\n",
        "  # kreye yon diksyon\n",
        "  my_dict = dict()\n",
        "  # seleksyone chak kolòn\n",
        "  for col in dataset.columns:\n",
        "    # sovgade kadinailte avèk valè inik yo nan kolòn sa\n",
        "    if is_number:\n",
        "      my_dict[col] = dataset[col].nunique()\n",
        "    else:\n",
        "       my_dict[col] = dataset[col].unique()\n",
        "  # retounen diksyonè sila\n",
        "  return my_dict"
      ],
      "execution_count": 163,
      "outputs": []
    },
    {
      "cell_type": "code",
      "metadata": {
        "colab": {
          "base_uri": "https://localhost:8080/"
        },
        "id": "EPfxH6wY4Oty",
        "outputId": "5dbb9534-4a69-46aa-cdc3-cc92412363ad"
      },
      "source": [
        "dataset_cardinalite(data)"
      ],
      "execution_count": 164,
      "outputs": [
        {
          "output_type": "execute_result",
          "data": {
            "text/plain": [
              "{'age': 8,\n",
              " 'amount': 23767,\n",
              " 'category': 15,\n",
              " 'customer': 4112,\n",
              " 'fraud': 2,\n",
              " 'gender': 4,\n",
              " 'merchant': 50,\n",
              " 'step': 180}"
            ]
          },
          "metadata": {
            "tags": []
          },
          "execution_count": 164
        }
      ]
    },
    {
      "cell_type": "code",
      "metadata": {
        "colab": {
          "base_uri": "https://localhost:8080/",
          "height": 284
        },
        "id": "JUrY6H4_-5Qd",
        "outputId": "61dfa4ff-8fd7-4a5f-83e0-195e7ef77a09"
      },
      "source": [
        "data.describe()"
      ],
      "execution_count": 93,
      "outputs": [
        {
          "output_type": "execute_result",
          "data": {
            "text/html": [
              "<div>\n",
              "<style scoped>\n",
              "    .dataframe tbody tr th:only-of-type {\n",
              "        vertical-align: middle;\n",
              "    }\n",
              "\n",
              "    .dataframe tbody tr th {\n",
              "        vertical-align: top;\n",
              "    }\n",
              "\n",
              "    .dataframe thead th {\n",
              "        text-align: right;\n",
              "    }\n",
              "</style>\n",
              "<table border=\"1\" class=\"dataframe\">\n",
              "  <thead>\n",
              "    <tr style=\"text-align: right;\">\n",
              "      <th></th>\n",
              "      <th>step</th>\n",
              "      <th>amount</th>\n",
              "      <th>fraud</th>\n",
              "    </tr>\n",
              "  </thead>\n",
              "  <tbody>\n",
              "    <tr>\n",
              "      <th>count</th>\n",
              "      <td>594643.000000</td>\n",
              "      <td>594643.000000</td>\n",
              "      <td>594643.000000</td>\n",
              "    </tr>\n",
              "    <tr>\n",
              "      <th>mean</th>\n",
              "      <td>94.986827</td>\n",
              "      <td>37.890135</td>\n",
              "      <td>0.012108</td>\n",
              "    </tr>\n",
              "    <tr>\n",
              "      <th>std</th>\n",
              "      <td>51.053632</td>\n",
              "      <td>111.402831</td>\n",
              "      <td>0.109369</td>\n",
              "    </tr>\n",
              "    <tr>\n",
              "      <th>min</th>\n",
              "      <td>0.000000</td>\n",
              "      <td>0.000000</td>\n",
              "      <td>0.000000</td>\n",
              "    </tr>\n",
              "    <tr>\n",
              "      <th>25%</th>\n",
              "      <td>52.000000</td>\n",
              "      <td>13.740000</td>\n",
              "      <td>0.000000</td>\n",
              "    </tr>\n",
              "    <tr>\n",
              "      <th>50%</th>\n",
              "      <td>97.000000</td>\n",
              "      <td>26.900000</td>\n",
              "      <td>0.000000</td>\n",
              "    </tr>\n",
              "    <tr>\n",
              "      <th>75%</th>\n",
              "      <td>139.000000</td>\n",
              "      <td>42.540000</td>\n",
              "      <td>0.000000</td>\n",
              "    </tr>\n",
              "    <tr>\n",
              "      <th>max</th>\n",
              "      <td>179.000000</td>\n",
              "      <td>8329.960000</td>\n",
              "      <td>1.000000</td>\n",
              "    </tr>\n",
              "  </tbody>\n",
              "</table>\n",
              "</div>"
            ],
            "text/plain": [
              "                step         amount          fraud\n",
              "count  594643.000000  594643.000000  594643.000000\n",
              "mean       94.986827      37.890135       0.012108\n",
              "std        51.053632     111.402831       0.109369\n",
              "min         0.000000       0.000000       0.000000\n",
              "25%        52.000000      13.740000       0.000000\n",
              "50%        97.000000      26.900000       0.000000\n",
              "75%       139.000000      42.540000       0.000000\n",
              "max       179.000000    8329.960000       1.000000"
            ]
          },
          "metadata": {
            "tags": []
          },
          "execution_count": 93
        }
      ]
    },
    {
      "cell_type": "code",
      "metadata": {
        "colab": {
          "base_uri": "https://localhost:8080/",
          "height": 106
        },
        "id": "bE41zWgD33s5",
        "outputId": "1b796dda-e130-474b-c772-5cb46cd43e92"
      },
      "source": [
        "data.head(2)"
      ],
      "execution_count": 165,
      "outputs": [
        {
          "output_type": "execute_result",
          "data": {
            "text/html": [
              "<div>\n",
              "<style scoped>\n",
              "    .dataframe tbody tr th:only-of-type {\n",
              "        vertical-align: middle;\n",
              "    }\n",
              "\n",
              "    .dataframe tbody tr th {\n",
              "        vertical-align: top;\n",
              "    }\n",
              "\n",
              "    .dataframe thead th {\n",
              "        text-align: right;\n",
              "    }\n",
              "</style>\n",
              "<table border=\"1\" class=\"dataframe\">\n",
              "  <thead>\n",
              "    <tr style=\"text-align: right;\">\n",
              "      <th></th>\n",
              "      <th>step</th>\n",
              "      <th>customer</th>\n",
              "      <th>age</th>\n",
              "      <th>gender</th>\n",
              "      <th>merchant</th>\n",
              "      <th>category</th>\n",
              "      <th>amount</th>\n",
              "      <th>fraud</th>\n",
              "    </tr>\n",
              "  </thead>\n",
              "  <tbody>\n",
              "    <tr>\n",
              "      <th>0</th>\n",
              "      <td>0</td>\n",
              "      <td>C1093826151</td>\n",
              "      <td>4</td>\n",
              "      <td>Male</td>\n",
              "      <td>M348934600</td>\n",
              "      <td>transportation</td>\n",
              "      <td>4550.0</td>\n",
              "      <td>0</td>\n",
              "    </tr>\n",
              "    <tr>\n",
              "      <th>1</th>\n",
              "      <td>0</td>\n",
              "      <td>C352968107</td>\n",
              "      <td>2</td>\n",
              "      <td>Male</td>\n",
              "      <td>M348934600</td>\n",
              "      <td>transportation</td>\n",
              "      <td>39680.0</td>\n",
              "      <td>0</td>\n",
              "    </tr>\n",
              "  </tbody>\n",
              "</table>\n",
              "</div>"
            ],
            "text/plain": [
              "   step     customer age gender    merchant        category   amount  fraud\n",
              "0     0  C1093826151   4   Male  M348934600  transportation   4550.0      0\n",
              "1     0   C352968107   2   Male  M348934600  transportation  39680.0      0"
            ]
          },
          "metadata": {
            "tags": []
          },
          "execution_count": 165
        }
      ]
    },
    {
      "cell_type": "markdown",
      "metadata": {
        "id": "aHdSIc9lojkV"
      },
      "source": [
        "## Data Processing"
      ]
    },
    {
      "cell_type": "markdown",
      "metadata": {
        "id": "VX9y1EP0kb-W"
      },
      "source": [
        "Qualitative variables -> Gender, Category, Fraud, Merchant\n",
        "\n",
        "Quantitative variables -> Amount,"
      ]
    },
    {
      "cell_type": "markdown",
      "metadata": {
        "id": "cFOpfwH9os28"
      },
      "source": [
        "## Data Analysis Univariate"
      ]
    },
    {
      "cell_type": "markdown",
      "metadata": {
        "id": "zDJzONTuM8Tn"
      },
      "source": [
        "### Data Analysis Univariate for Qualitative Variable\n",
        "\n",
        "Qualitative variables -> Gender, Category, Fraud, Age"
      ]
    },
    {
      "cell_type": "code",
      "metadata": {
        "id": "u_-b2yrJ7OAk"
      },
      "source": [
        "def generate_barchart(data=\"\", title =\"\",abs_value =\"\",rel_value=\"\",figsize =(10,6)):\n",
        "  plt.figure(figsize=figsize)\n",
        "  axes = sns.barplot(data=data,x=data.index,y=abs_value)\n",
        "  i=0\n",
        "  for tot, perc in zip(data[abs_value],data[rel_value]):\n",
        "    axes.text(i,\n",
        "              tot/2,\n",
        "              str(np.round(perc*100,2))+ \"%\",\n",
        "               fontdict=dict(color='White',fontsize=12,horizontalalignment=\"center\")\n",
        "              )\n",
        "    axes.text(i,\n",
        "              tot+ 3,\n",
        "              str(tot),\n",
        "               fontdict=dict(color='blue',fontsize=12,horizontalalignment=\"center\")\n",
        "              )\n",
        "    \n",
        "    i+=1\n",
        "  plt.title(title)\n",
        "  plt.show()"
      ],
      "execution_count": 95,
      "outputs": []
    },
    {
      "cell_type": "code",
      "metadata": {
        "id": "ivfigR1X7WJK"
      },
      "source": [
        "def prob_category(data,col=\"Pclass_letter\", abs_value =\"Total\",rel_value =\"Percent\",show_plot=False, title=\"\"):\n",
        "  # absolute value\n",
        "   res1 = data[col].value_counts().to_frame()\n",
        "   res1.columns = [abs_value]\n",
        "\n",
        "   res2 = data[col].value_counts(normalize=True).to_frame()\n",
        "   res2.columns = [rel_value]\n",
        "   if  not show_plot:\n",
        "     return pd.concat([res1,res2],axis=1)\n",
        "   else:\n",
        "     result = pd.concat([res1,res2],axis=1)\n",
        "     generate_barchart(data=result, title =title,abs_value =abs_value,rel_value=rel_value,figsize =(10,6))\n",
        "     return result"
      ],
      "execution_count": 96,
      "outputs": []
    },
    {
      "cell_type": "code",
      "metadata": {
        "colab": {
          "base_uri": "https://localhost:8080/",
          "height": 540
        },
        "id": "greKa1Cu7gq6",
        "outputId": "80a9b09c-02ea-40c6-c58e-304145b395cb"
      },
      "source": [
        "prob_category(data, col='gender', show_plot=True, title='Gender Distribution')"
      ],
      "execution_count": 102,
      "outputs": [
        {
          "output_type": "display_data",
          "data": {
            "image/png": "[encoded data removed]",
            "text/plain": [
              "<Figure size 720x432 with 1 Axes>"
            ]
          },
          "metadata": {
            "tags": [],
            "needs_background": "light"
          }
        },
        {
          "output_type": "execute_result",
          "data": {
            "text/html": [
              "<div>\n",
              "<style scoped>\n",
              "    .dataframe tbody tr th:only-of-type {\n",
              "        vertical-align: middle;\n",
              "    }\n",
              "\n",
              "    .dataframe tbody tr th {\n",
              "        vertical-align: top;\n",
              "    }\n",
              "\n",
              "    .dataframe thead th {\n",
              "        text-align: right;\n",
              "    }\n",
              "</style>\n",
              "<table border=\"1\" class=\"dataframe\">\n",
              "  <thead>\n",
              "    <tr style=\"text-align: right;\">\n",
              "      <th></th>\n",
              "      <th>Total</th>\n",
              "      <th>Percent</th>\n",
              "    </tr>\n",
              "  </thead>\n",
              "  <tbody>\n",
              "    <tr>\n",
              "      <th>Female</th>\n",
              "      <td>324565</td>\n",
              "      <td>0.545815</td>\n",
              "    </tr>\n",
              "    <tr>\n",
              "      <th>Male</th>\n",
              "      <td>268385</td>\n",
              "      <td>0.451338</td>\n",
              "    </tr>\n",
              "    <tr>\n",
              "      <th>Gender_E</th>\n",
              "      <td>1178</td>\n",
              "      <td>0.001981</td>\n",
              "    </tr>\n",
              "    <tr>\n",
              "      <th>Gender_Unkwon</th>\n",
              "      <td>515</td>\n",
              "      <td>0.000866</td>\n",
              "    </tr>\n",
              "  </tbody>\n",
              "</table>\n",
              "</div>"
            ],
            "text/plain": [
              "                Total   Percent\n",
              "Female         324565  0.545815\n",
              "Male           268385  0.451338\n",
              "Gender_E         1178  0.001981\n",
              "Gender_Unkwon     515  0.000866"
            ]
          },
          "metadata": {
            "tags": []
          },
          "execution_count": 102
        }
      ]
    },
    {
      "cell_type": "code",
      "metadata": {
        "colab": {
          "base_uri": "https://localhost:8080/",
          "height": 658
        },
        "id": "NzsjaqIUDUsF",
        "outputId": "e50cc07c-3155-4476-887e-d7f0ed50e2d1"
      },
      "source": [
        "prob_category(data, col='age', show_plot=True, title='Age Distribution')"
      ],
      "execution_count": 103,
      "outputs": [
        {
          "output_type": "display_data",
          "data": {
            "image/png": "[encoded data removed]",
            "text/plain": [
              "<Figure size 720x432 with 1 Axes>"
            ]
          },
          "metadata": {
            "tags": [],
            "needs_background": "light"
          }
        },
        {
          "output_type": "execute_result",
          "data": {
            "text/html": [
              "<div>\n",
              "<style scoped>\n",
              "    .dataframe tbody tr th:only-of-type {\n",
              "        vertical-align: middle;\n",
              "    }\n",
              "\n",
              "    .dataframe tbody tr th {\n",
              "        vertical-align: top;\n",
              "    }\n",
              "\n",
              "    .dataframe thead th {\n",
              "        text-align: right;\n",
              "    }\n",
              "</style>\n",
              "<table border=\"1\" class=\"dataframe\">\n",
              "  <thead>\n",
              "    <tr style=\"text-align: right;\">\n",
              "      <th></th>\n",
              "      <th>Total</th>\n",
              "      <th>Percent</th>\n",
              "    </tr>\n",
              "  </thead>\n",
              "  <tbody>\n",
              "    <tr>\n",
              "      <th>2</th>\n",
              "      <td>187310</td>\n",
              "      <td>0.314996</td>\n",
              "    </tr>\n",
              "    <tr>\n",
              "      <th>3</th>\n",
              "      <td>147131</td>\n",
              "      <td>0.247427</td>\n",
              "    </tr>\n",
              "    <tr>\n",
              "      <th>4</th>\n",
              "      <td>109025</td>\n",
              "      <td>0.183345</td>\n",
              "    </tr>\n",
              "    <tr>\n",
              "      <th>5</th>\n",
              "      <td>62642</td>\n",
              "      <td>0.105344</td>\n",
              "    </tr>\n",
              "    <tr>\n",
              "      <th>1</th>\n",
              "      <td>58131</td>\n",
              "      <td>0.097758</td>\n",
              "    </tr>\n",
              "    <tr>\n",
              "      <th>6</th>\n",
              "      <td>26774</td>\n",
              "      <td>0.045025</td>\n",
              "    </tr>\n",
              "    <tr>\n",
              "      <th>0</th>\n",
              "      <td>2452</td>\n",
              "      <td>0.004123</td>\n",
              "    </tr>\n",
              "    <tr>\n",
              "      <th>U</th>\n",
              "      <td>1178</td>\n",
              "      <td>0.001981</td>\n",
              "    </tr>\n",
              "  </tbody>\n",
              "</table>\n",
              "</div>"
            ],
            "text/plain": [
              "    Total   Percent\n",
              "2  187310  0.314996\n",
              "3  147131  0.247427\n",
              "4  109025  0.183345\n",
              "5   62642  0.105344\n",
              "1   58131  0.097758\n",
              "6   26774  0.045025\n",
              "0    2452  0.004123\n",
              "U    1178  0.001981"
            ]
          },
          "metadata": {
            "tags": []
          },
          "execution_count": 103
        }
      ]
    },
    {
      "cell_type": "code",
      "metadata": {
        "colab": {
          "base_uri": "https://localhost:8080/",
          "height": 480
        },
        "id": "bd9qZSb3Dbpm",
        "outputId": "212ef622-e9f0-4032-8c47-6246644d4bd1"
      },
      "source": [
        "prob_category(data, col='fraud', show_plot=True, title='Fraud Distribution')"
      ],
      "execution_count": 104,
      "outputs": [
        {
          "output_type": "display_data",
          "data": {
            "image/png": "[encoded data removed]",
            "text/plain": [
              "<Figure size 720x432 with 1 Axes>"
            ]
          },
          "metadata": {
            "tags": [],
            "needs_background": "light"
          }
        },
        {
          "output_type": "execute_result",
          "data": {
            "text/html": [
              "<div>\n",
              "<style scoped>\n",
              "    .dataframe tbody tr th:only-of-type {\n",
              "        vertical-align: middle;\n",
              "    }\n",
              "\n",
              "    .dataframe tbody tr th {\n",
              "        vertical-align: top;\n",
              "    }\n",
              "\n",
              "    .dataframe thead th {\n",
              "        text-align: right;\n",
              "    }\n",
              "</style>\n",
              "<table border=\"1\" class=\"dataframe\">\n",
              "  <thead>\n",
              "    <tr style=\"text-align: right;\">\n",
              "      <th></th>\n",
              "      <th>Total</th>\n",
              "      <th>Percent</th>\n",
              "    </tr>\n",
              "  </thead>\n",
              "  <tbody>\n",
              "    <tr>\n",
              "      <th>0</th>\n",
              "      <td>587443</td>\n",
              "      <td>0.987892</td>\n",
              "    </tr>\n",
              "    <tr>\n",
              "      <th>1</th>\n",
              "      <td>7200</td>\n",
              "      <td>0.012108</td>\n",
              "    </tr>\n",
              "  </tbody>\n",
              "</table>\n",
              "</div>"
            ],
            "text/plain": [
              "    Total   Percent\n",
              "0  587443  0.987892\n",
              "1    7200  0.012108"
            ]
          },
          "metadata": {
            "tags": []
          },
          "execution_count": 104
        }
      ]
    },
    {
      "cell_type": "code",
      "metadata": {
        "id": "RdhAsXepI76a"
      },
      "source": [
        "total_category=data.category.value_counts().to_frame()\n",
        "total_category.rename(columns={'category':'Total'},inplace=True)\n",
        "prc_total=data.category.value_counts(normalize=True).to_frame()\n",
        "prc_total.rename(columns={'category':'Percent'},inplace=True)\n",
        "result = pd.concat([prc_total,total_category],axis =1)"
      ],
      "execution_count": 106,
      "outputs": []
    },
    {
      "cell_type": "code",
      "metadata": {
        "colab": {
          "base_uri": "https://localhost:8080/",
          "height": 491
        },
        "id": "-kl9z3XTMh_M",
        "outputId": "1f530a32-9e55-4ecc-d122-0d2f9d245010"
      },
      "source": [
        "result"
      ],
      "execution_count": 111,
      "outputs": [
        {
          "output_type": "execute_result",
          "data": {
            "text/html": [
              "<div>\n",
              "<style scoped>\n",
              "    .dataframe tbody tr th:only-of-type {\n",
              "        vertical-align: middle;\n",
              "    }\n",
              "\n",
              "    .dataframe tbody tr th {\n",
              "        vertical-align: top;\n",
              "    }\n",
              "\n",
              "    .dataframe thead th {\n",
              "        text-align: right;\n",
              "    }\n",
              "</style>\n",
              "<table border=\"1\" class=\"dataframe\">\n",
              "  <thead>\n",
              "    <tr style=\"text-align: right;\">\n",
              "      <th></th>\n",
              "      <th>Percent</th>\n",
              "      <th>Total</th>\n",
              "    </tr>\n",
              "  </thead>\n",
              "  <tbody>\n",
              "    <tr>\n",
              "      <th>transportation</th>\n",
              "      <td>0.849449</td>\n",
              "      <td>505119</td>\n",
              "    </tr>\n",
              "    <tr>\n",
              "      <th>food</th>\n",
              "      <td>0.044151</td>\n",
              "      <td>26254</td>\n",
              "    </tr>\n",
              "    <tr>\n",
              "      <th>health</th>\n",
              "      <td>0.027131</td>\n",
              "      <td>16133</td>\n",
              "    </tr>\n",
              "    <tr>\n",
              "      <th>wellnessandbeauty</th>\n",
              "      <td>0.025370</td>\n",
              "      <td>15086</td>\n",
              "    </tr>\n",
              "    <tr>\n",
              "      <th>fashion</th>\n",
              "      <td>0.010854</td>\n",
              "      <td>6454</td>\n",
              "    </tr>\n",
              "    <tr>\n",
              "      <th>barsandrestaurants</th>\n",
              "      <td>0.010717</td>\n",
              "      <td>6373</td>\n",
              "    </tr>\n",
              "    <tr>\n",
              "      <th>hyper</th>\n",
              "      <td>0.010255</td>\n",
              "      <td>6098</td>\n",
              "    </tr>\n",
              "    <tr>\n",
              "      <th>sportsandtoys</th>\n",
              "      <td>0.006730</td>\n",
              "      <td>4002</td>\n",
              "    </tr>\n",
              "    <tr>\n",
              "      <th>tech</th>\n",
              "      <td>0.003986</td>\n",
              "      <td>2370</td>\n",
              "    </tr>\n",
              "    <tr>\n",
              "      <th>home</th>\n",
              "      <td>0.003340</td>\n",
              "      <td>1986</td>\n",
              "    </tr>\n",
              "    <tr>\n",
              "      <th>hotelservices</th>\n",
              "      <td>0.002933</td>\n",
              "      <td>1744</td>\n",
              "    </tr>\n",
              "    <tr>\n",
              "      <th>otherservices</th>\n",
              "      <td>0.001534</td>\n",
              "      <td>912</td>\n",
              "    </tr>\n",
              "    <tr>\n",
              "      <th>contents</th>\n",
              "      <td>0.001488</td>\n",
              "      <td>885</td>\n",
              "    </tr>\n",
              "    <tr>\n",
              "      <th>travel</th>\n",
              "      <td>0.001224</td>\n",
              "      <td>728</td>\n",
              "    </tr>\n",
              "    <tr>\n",
              "      <th>leisure</th>\n",
              "      <td>0.000839</td>\n",
              "      <td>499</td>\n",
              "    </tr>\n",
              "  </tbody>\n",
              "</table>\n",
              "</div>"
            ],
            "text/plain": [
              "                     Percent   Total\n",
              "transportation      0.849449  505119\n",
              "food                0.044151   26254\n",
              "health              0.027131   16133\n",
              "wellnessandbeauty   0.025370   15086\n",
              "fashion             0.010854    6454\n",
              "barsandrestaurants  0.010717    6373\n",
              "hyper               0.010255    6098\n",
              "sportsandtoys       0.006730    4002\n",
              "tech                0.003986    2370\n",
              "home                0.003340    1986\n",
              "hotelservices       0.002933    1744\n",
              "otherservices       0.001534     912\n",
              "contents            0.001488     885\n",
              "travel              0.001224     728\n",
              "leisure             0.000839     499"
            ]
          },
          "metadata": {
            "tags": []
          },
          "execution_count": 111
        }
      ]
    },
    {
      "cell_type": "code",
      "metadata": {
        "colab": {
          "base_uri": "https://localhost:8080/",
          "height": 483
        },
        "id": "noVfQRtWJj2s",
        "outputId": "c54bce34-3b9b-4426-97a1-28b65020e0ac"
      },
      "source": [
        "graph=total_category.plot(kind='barh', width=0.9)\n",
        "fig = graph.get_figure()\n",
        "# Change the plot dimensions (width, height)\n",
        "fig.set_size_inches(14, 8)"
      ],
      "execution_count": 171,
      "outputs": [
        {
          "output_type": "display_data",
          "data": {
            "image/png": "[encoded data removed]",
            "text/plain": [
              "<Figure size 1008x576 with 1 Axes>"
            ]
          },
          "metadata": {
            "tags": [],
            "needs_background": "light"
          }
        }
      ]
    },
    {
      "cell_type": "markdown",
      "metadata": {
        "id": "V5ikjmFdP9Fi"
      },
      "source": [
        "### Data Analysis Quantitative Univariate\n",
        "\n",
        "Quantative variables -> Amount"
      ]
    },
    {
      "cell_type": "code",
      "metadata": {
        "colab": {
          "base_uri": "https://localhost:8080/",
          "height": 457
        },
        "id": "hFQar61LQLhI",
        "outputId": "66df493e-2860-45c8-c36a-41052964a5fd"
      },
      "source": [
        "# Histogram with rugplot and kde \n",
        "plt.figure(figsize=(10,6))\n",
        "sns.distplot(x=data[\"amount\"],kde=True)\n",
        "plt.title(\"Amount distribution\")\n",
        "plt.show()"
      ],
      "execution_count": 166,
      "outputs": [
        {
          "output_type": "stream",
          "text": [
            "/usr/local/lib/python3.7/dist-packages/seaborn/distributions.py:2557: FutureWarning: `distplot` is a deprecated function and will be removed in a future version. Please adapt your code to use either `displot` (a figure-level function with similar flexibility) or `histplot` (an axes-level function for histograms).\n",
            "  warnings.warn(msg, FutureWarning)\n"
          ],
          "name": "stderr"
        },
        {
          "output_type": "display_data",
          "data": {
            "image/png": "[encoded data removed]",
            "text/plain": [
              "<Figure size 720x432 with 1 Axes>"
            ]
          },
          "metadata": {
            "tags": [],
            "needs_background": "light"
          }
        }
      ]
    },
    {
      "cell_type": "code",
      "metadata": {
        "colab": {
          "base_uri": "https://localhost:8080/",
          "height": 516
        },
        "id": "bTYKBOnGm4tV",
        "outputId": "d803bffb-6ea8-4fce-d414-ee1e62bdbe75"
      },
      "source": [
        "# Age Univariate Analysis\n",
        "data.boxplot(column=\"amount\",figsize=(10,8))\n",
        "plt.title(\"Age Boxplot Distribution\")\n"
      ],
      "execution_count": 167,
      "outputs": [
        {
          "output_type": "execute_result",
          "data": {
            "text/plain": [
              "Text(0.5, 1.0, 'Age Boxplot Distribution')"
            ]
          },
          "metadata": {
            "tags": []
          },
          "execution_count": 167
        },
        {
          "output_type": "display_data",
          "data": {
            "image/png": "[encoded data removed]",
            "text/plain": [
              "<Figure size 720x576 with 1 Axes>"
            ]
          },
          "metadata": {
            "tags": [],
            "needs_background": "light"
          }
        }
      ]
    },
    {
      "cell_type": "markdown",
      "metadata": {
        "id": "57Y6qAKRowL0"
      },
      "source": [
        "## Data Analysis Bivariate\n",
        "\n",
        "#### Fraud vs Category\n",
        "\n",
        "#### Fraud vs Genre\n",
        "\n",
        "#### Fraud vs Age\n"
      ]
    },
    {
      "cell_type": "code",
      "metadata": {
        "id": "zEv1wGjqlxpF",
        "colab": {
          "base_uri": "https://localhost:8080/",
          "height": 521
        },
        "outputId": "41c08e33-3048-4a85-d0d0-d01511cf7a95"
      },
      "source": [
        "fraud_category = pd.pivot_table(data=data,index=\"category\",columns=\"fraud\",values =\"step\",aggfunc=\"count\")\n",
        "fraud_category=fraud_category.sort_values(0, ascending=False)\n",
        "fraud_category"
      ],
      "execution_count": 185,
      "outputs": [
        {
          "output_type": "execute_result",
          "data": {
            "text/html": [
              "<div>\n",
              "<style scoped>\n",
              "    .dataframe tbody tr th:only-of-type {\n",
              "        vertical-align: middle;\n",
              "    }\n",
              "\n",
              "    .dataframe tbody tr th {\n",
              "        vertical-align: top;\n",
              "    }\n",
              "\n",
              "    .dataframe thead th {\n",
              "        text-align: right;\n",
              "    }\n",
              "</style>\n",
              "<table border=\"1\" class=\"dataframe\">\n",
              "  <thead>\n",
              "    <tr style=\"text-align: right;\">\n",
              "      <th>fraud</th>\n",
              "      <th>0</th>\n",
              "      <th>1</th>\n",
              "    </tr>\n",
              "    <tr>\n",
              "      <th>category</th>\n",
              "      <th></th>\n",
              "      <th></th>\n",
              "    </tr>\n",
              "  </thead>\n",
              "  <tbody>\n",
              "    <tr>\n",
              "      <th>transportation</th>\n",
              "      <td>505119.0</td>\n",
              "      <td>NaN</td>\n",
              "    </tr>\n",
              "    <tr>\n",
              "      <th>food</th>\n",
              "      <td>26254.0</td>\n",
              "      <td>NaN</td>\n",
              "    </tr>\n",
              "    <tr>\n",
              "      <th>health</th>\n",
              "      <td>14437.0</td>\n",
              "      <td>1696.0</td>\n",
              "    </tr>\n",
              "    <tr>\n",
              "      <th>wellnessandbeauty</th>\n",
              "      <td>14368.0</td>\n",
              "      <td>718.0</td>\n",
              "    </tr>\n",
              "    <tr>\n",
              "      <th>fashion</th>\n",
              "      <td>6338.0</td>\n",
              "      <td>116.0</td>\n",
              "    </tr>\n",
              "    <tr>\n",
              "      <th>barsandrestaurants</th>\n",
              "      <td>6253.0</td>\n",
              "      <td>120.0</td>\n",
              "    </tr>\n",
              "    <tr>\n",
              "      <th>hyper</th>\n",
              "      <td>5818.0</td>\n",
              "      <td>280.0</td>\n",
              "    </tr>\n",
              "    <tr>\n",
              "      <th>tech</th>\n",
              "      <td>2212.0</td>\n",
              "      <td>158.0</td>\n",
              "    </tr>\n",
              "    <tr>\n",
              "      <th>sportsandtoys</th>\n",
              "      <td>2020.0</td>\n",
              "      <td>1982.0</td>\n",
              "    </tr>\n",
              "    <tr>\n",
              "      <th>home</th>\n",
              "      <td>1684.0</td>\n",
              "      <td>302.0</td>\n",
              "    </tr>\n",
              "    <tr>\n",
              "      <th>hotelservices</th>\n",
              "      <td>1196.0</td>\n",
              "      <td>548.0</td>\n",
              "    </tr>\n",
              "    <tr>\n",
              "      <th>contents</th>\n",
              "      <td>885.0</td>\n",
              "      <td>NaN</td>\n",
              "    </tr>\n",
              "    <tr>\n",
              "      <th>otherservices</th>\n",
              "      <td>684.0</td>\n",
              "      <td>228.0</td>\n",
              "    </tr>\n",
              "    <tr>\n",
              "      <th>travel</th>\n",
              "      <td>150.0</td>\n",
              "      <td>578.0</td>\n",
              "    </tr>\n",
              "    <tr>\n",
              "      <th>leisure</th>\n",
              "      <td>25.0</td>\n",
              "      <td>474.0</td>\n",
              "    </tr>\n",
              "  </tbody>\n",
              "</table>\n",
              "</div>"
            ],
            "text/plain": [
              "fraud                      0       1\n",
              "category                            \n",
              "transportation      505119.0     NaN\n",
              "food                 26254.0     NaN\n",
              "health               14437.0  1696.0\n",
              "wellnessandbeauty    14368.0   718.0\n",
              "fashion               6338.0   116.0\n",
              "barsandrestaurants    6253.0   120.0\n",
              "hyper                 5818.0   280.0\n",
              "tech                  2212.0   158.0\n",
              "sportsandtoys         2020.0  1982.0\n",
              "home                  1684.0   302.0\n",
              "hotelservices         1196.0   548.0\n",
              "contents               885.0     NaN\n",
              "otherservices          684.0   228.0\n",
              "travel                 150.0   578.0\n",
              "leisure                 25.0   474.0"
            ]
          },
          "metadata": {
            "tags": []
          },
          "execution_count": 185
        }
      ]
    },
    {
      "cell_type": "code",
      "metadata": {
        "id": "DAmyX7qi5W-x",
        "colab": {
          "base_uri": "https://localhost:8080/",
          "height": 483
        },
        "outputId": "5f8def6c-baf2-4c4e-cfc9-43b4a9c00cac"
      },
      "source": [
        "graph=fraud_category.plot(kind='barh', width=0.9)\n",
        "fig = graph.get_figure()\n",
        "# Change the plot dimensions (width, height)\n",
        "fig.set_size_inches(14, 8)"
      ],
      "execution_count": 186,
      "outputs": [
        {
          "output_type": "display_data",
          "data": {
            "image/png": "[encoded data removed]",
            "text/plain": [
              "<Figure size 1008x576 with 1 Axes>"
            ]
          },
          "metadata": {
            "tags": [],
            "needs_background": "light"
          }
        }
      ]
    },
    {
      "cell_type": "code",
      "metadata": {
        "colab": {
          "base_uri": "https://localhost:8080/",
          "height": 195
        },
        "id": "w71hnpIF0PSj",
        "outputId": "5a48db18-6c63-4763-d0e1-18b6247c4025"
      },
      "source": [
        "fraud_gender = pd.pivot_table(data=data,index=\"gender\",columns=\"fraud\",values =\"step\",aggfunc=\"count\")\n",
        "fraud_gender=fraud_gender.sort_values(0, ascending=False)\n",
        "fraud_gender"
      ],
      "execution_count": 189,
      "outputs": [
        {
          "output_type": "execute_result",
          "data": {
            "text/html": [
              "<div>\n",
              "<style scoped>\n",
              "    .dataframe tbody tr th:only-of-type {\n",
              "        vertical-align: middle;\n",
              "    }\n",
              "\n",
              "    .dataframe tbody tr th {\n",
              "        vertical-align: top;\n",
              "    }\n",
              "\n",
              "    .dataframe thead th {\n",
              "        text-align: right;\n",
              "    }\n",
              "</style>\n",
              "<table border=\"1\" class=\"dataframe\">\n",
              "  <thead>\n",
              "    <tr style=\"text-align: right;\">\n",
              "      <th>fraud</th>\n",
              "      <th>0</th>\n",
              "      <th>1</th>\n",
              "    </tr>\n",
              "    <tr>\n",
              "      <th>gender</th>\n",
              "      <th></th>\n",
              "      <th></th>\n",
              "    </tr>\n",
              "  </thead>\n",
              "  <tbody>\n",
              "    <tr>\n",
              "      <th>Female</th>\n",
              "      <td>319807.0</td>\n",
              "      <td>4758.0</td>\n",
              "    </tr>\n",
              "    <tr>\n",
              "      <th>Male</th>\n",
              "      <td>265950.0</td>\n",
              "      <td>2435.0</td>\n",
              "    </tr>\n",
              "    <tr>\n",
              "      <th>Gender_E</th>\n",
              "      <td>1171.0</td>\n",
              "      <td>7.0</td>\n",
              "    </tr>\n",
              "    <tr>\n",
              "      <th>Gender_Unkwon</th>\n",
              "      <td>515.0</td>\n",
              "      <td>NaN</td>\n",
              "    </tr>\n",
              "  </tbody>\n",
              "</table>\n",
              "</div>"
            ],
            "text/plain": [
              "fraud                 0       1\n",
              "gender                         \n",
              "Female         319807.0  4758.0\n",
              "Male           265950.0  2435.0\n",
              "Gender_E         1171.0     7.0\n",
              "Gender_Unkwon     515.0     NaN"
            ]
          },
          "metadata": {
            "tags": []
          },
          "execution_count": 189
        }
      ]
    },
    {
      "cell_type": "code",
      "metadata": {
        "colab": {
          "base_uri": "https://localhost:8080/",
          "height": 483
        },
        "id": "_Qj1676u1M2w",
        "outputId": "50347d0c-a098-473a-832f-f7924c71abe3"
      },
      "source": [
        "graph=fraud_gender.plot(kind='barh', width=0.9)\n",
        "fig = graph.get_figure()\n",
        "# Change the plot dimensions (width, height)\n",
        "fig.set_size_inches(14, 8)"
      ],
      "execution_count": 190,
      "outputs": [
        {
          "output_type": "display_data",
          "data": {
            "image/png": "[encoded data removed]",
            "text/plain": [
              "<Figure size 1008x576 with 1 Axes>"
            ]
          },
          "metadata": {
            "tags": [],
            "needs_background": "light"
          }
        }
      ]
    },
    {
      "cell_type": "code",
      "metadata": {
        "colab": {
          "base_uri": "https://localhost:8080/",
          "height": 314
        },
        "id": "1Pi5BD-41f6S",
        "outputId": "ee572729-e27a-4bfe-8163-1aa0c7246c1a"
      },
      "source": [
        "fraud_age = pd.pivot_table(data=data,index=\"age\",columns=\"fraud\",values =\"step\",aggfunc=\"count\")\n",
        "fraud_age=fraud_age.sort_values(0, ascending=False)\n",
        "fraud_age"
      ],
      "execution_count": 191,
      "outputs": [
        {
          "output_type": "execute_result",
          "data": {
            "text/html": [
              "<div>\n",
              "<style scoped>\n",
              "    .dataframe tbody tr th:only-of-type {\n",
              "        vertical-align: middle;\n",
              "    }\n",
              "\n",
              "    .dataframe tbody tr th {\n",
              "        vertical-align: top;\n",
              "    }\n",
              "\n",
              "    .dataframe thead th {\n",
              "        text-align: right;\n",
              "    }\n",
              "</style>\n",
              "<table border=\"1\" class=\"dataframe\">\n",
              "  <thead>\n",
              "    <tr style=\"text-align: right;\">\n",
              "      <th>fraud</th>\n",
              "      <th>0</th>\n",
              "      <th>1</th>\n",
              "    </tr>\n",
              "    <tr>\n",
              "      <th>age</th>\n",
              "      <th></th>\n",
              "      <th></th>\n",
              "    </tr>\n",
              "  </thead>\n",
              "  <tbody>\n",
              "    <tr>\n",
              "      <th>2</th>\n",
              "      <td>184966</td>\n",
              "      <td>2344</td>\n",
              "    </tr>\n",
              "    <tr>\n",
              "      <th>3</th>\n",
              "      <td>145376</td>\n",
              "      <td>1755</td>\n",
              "    </tr>\n",
              "    <tr>\n",
              "      <th>4</th>\n",
              "      <td>107615</td>\n",
              "      <td>1410</td>\n",
              "    </tr>\n",
              "    <tr>\n",
              "      <th>5</th>\n",
              "      <td>61956</td>\n",
              "      <td>686</td>\n",
              "    </tr>\n",
              "    <tr>\n",
              "      <th>1</th>\n",
              "      <td>57442</td>\n",
              "      <td>689</td>\n",
              "    </tr>\n",
              "    <tr>\n",
              "      <th>6</th>\n",
              "      <td>26513</td>\n",
              "      <td>261</td>\n",
              "    </tr>\n",
              "    <tr>\n",
              "      <th>0</th>\n",
              "      <td>2404</td>\n",
              "      <td>48</td>\n",
              "    </tr>\n",
              "    <tr>\n",
              "      <th>U</th>\n",
              "      <td>1171</td>\n",
              "      <td>7</td>\n",
              "    </tr>\n",
              "  </tbody>\n",
              "</table>\n",
              "</div>"
            ],
            "text/plain": [
              "fraud       0     1\n",
              "age                \n",
              "2      184966  2344\n",
              "3      145376  1755\n",
              "4      107615  1410\n",
              "5       61956   686\n",
              "1       57442   689\n",
              "6       26513   261\n",
              "0        2404    48\n",
              "U        1171     7"
            ]
          },
          "metadata": {
            "tags": []
          },
          "execution_count": 191
        }
      ]
    },
    {
      "cell_type": "code",
      "metadata": {
        "colab": {
          "base_uri": "https://localhost:8080/",
          "height": 494
        },
        "id": "l7DS0f1E1yIm",
        "outputId": "5974dcaa-4774-4732-ba6d-1648e45ebee1"
      },
      "source": [
        "graph=fraud_age.plot(kind='bar', width=0.9)\n",
        "fig = graph.get_figure()\n",
        "# Change the plot dimensions (width, height)\n",
        "fig.set_size_inches(14, 8)"
      ],
      "execution_count": 193,
      "outputs": [
        {
          "output_type": "display_data",
          "data": {
            "image/png": "[encoded data removed]",
            "text/plain": [
              "<Figure size 1008x576 with 1 Axes>"
            ]
          },
          "metadata": {
            "tags": [],
            "needs_background": "light"
          }
        }
      ]
    },
    {
      "cell_type": "code",
      "metadata": {
        "id": "5y8TLnUr85kW"
      },
      "source": [
        ""
      ],
      "execution_count": null,
      "outputs": []
    }
  ]
}